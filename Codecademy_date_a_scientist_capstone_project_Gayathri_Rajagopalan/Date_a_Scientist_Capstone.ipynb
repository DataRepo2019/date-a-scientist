{
 "cells": [
  {
   "cell_type": "markdown",
   "metadata": {},
   "source": [
    "# Importing the libraries and reading the data"
   ]
  },
  {
   "cell_type": "code",
   "execution_count": 1,
   "metadata": {},
   "outputs": [],
   "source": [
    "import pandas as pd\n",
    "from matplotlib import pyplot as plt\n",
    "df=pd.read_csv('profiles.csv')\n"
   ]
  },
  {
   "cell_type": "markdown",
   "metadata": {},
   "source": [
    "# Doing a basic exploratory data analysis"
   ]
  },
  {
   "cell_type": "code",
   "execution_count": 2,
   "metadata": {},
   "outputs": [
    {
     "name": "stdout",
     "output_type": "stream",
     "text": [
      "   age       body_type               diet    drinks      drugs  \\\n",
      "0   22  a little extra  strictly anything  socially      never   \n",
      "1   35         average       mostly other     often  sometimes   \n",
      "2   38            thin           anything  socially        NaN   \n",
      "3   23            thin         vegetarian  socially        NaN   \n",
      "4   29        athletic                NaN  socially      never   \n",
      "\n",
      "                           education  \\\n",
      "0      working on college/university   \n",
      "1              working on space camp   \n",
      "2     graduated from masters program   \n",
      "3      working on college/university   \n",
      "4  graduated from college/university   \n",
      "\n",
      "                                              essay0  \\\n",
      "0  about me:<br />\\n<br />\\ni would love to think...   \n",
      "1  i am a chef: this is what that means.<br />\\n1...   \n",
      "2  i'm not ashamed of much, but writing public te...   \n",
      "3          i work in a library and go to school. . .   \n",
      "4  hey how's it going? currently vague on the pro...   \n",
      "\n",
      "                                              essay1  \\\n",
      "0  currently working as an international agent fo...   \n",
      "1  dedicating everyday to being an unbelievable b...   \n",
      "2  i make nerdy software for musicians, artists, ...   \n",
      "3          reading things written by old dead people   \n",
      "4                         work work work work + play   \n",
      "\n",
      "                                              essay2  \\\n",
      "0  making people laugh.<br />\\nranting about a go...   \n",
      "1  being silly. having ridiculous amonts of fun w...   \n",
      "2  improvising in different contexts. alternating...   \n",
      "3  playing synthesizers and organizing books acco...   \n",
      "4  creating imagery to look at:<br />\\nhttp://bag...   \n",
      "\n",
      "                                              essay3    ...      \\\n",
      "0  the way i look. i am a six foot half asian, ha...    ...       \n",
      "1                                                NaN    ...       \n",
      "2  my large jaw and large glasses are the physica...    ...       \n",
      "3                  socially awkward but i do my best    ...       \n",
      "4            i smile a lot and my inquisitive nature    ...       \n",
      "\n",
      "                          location  \\\n",
      "0  south san francisco, california   \n",
      "1              oakland, california   \n",
      "2        san francisco, california   \n",
      "3             berkeley, california   \n",
      "4        san francisco, california   \n",
      "\n",
      "                                      offspring orientation  \\\n",
      "0  doesn&rsquo;t have kids, but might want them    straight   \n",
      "1  doesn&rsquo;t have kids, but might want them    straight   \n",
      "2                                           NaN    straight   \n",
      "3                       doesn&rsquo;t want kids    straight   \n",
      "4                                           NaN    straight   \n",
      "\n",
      "                        pets                                  religion sex  \\\n",
      "0  likes dogs and likes cats     agnosticism and very serious about it   m   \n",
      "1  likes dogs and likes cats  agnosticism but not too serious about it   m   \n",
      "2                   has cats                                       NaN   m   \n",
      "3                 likes cats                                       NaN   m   \n",
      "4  likes dogs and likes cats                                       NaN   m   \n",
      "\n",
      "                                 sign     smokes  \\\n",
      "0                              gemini  sometimes   \n",
      "1                              cancer         no   \n",
      "2  pisces but it doesn&rsquo;t matter         no   \n",
      "3                              pisces         no   \n",
      "4                            aquarius         no   \n",
      "\n",
      "                                              speaks     status  \n",
      "0                                            english     single  \n",
      "1  english (fluently), spanish (poorly), french (...     single  \n",
      "2                               english, french, c++  available  \n",
      "3                           english, german (poorly)     single  \n",
      "4                                            english     single  \n",
      "\n",
      "[5 rows x 31 columns]\n"
     ]
    },
    {
     "data": {
      "text/html": [
       "<div>\n",
       "<style scoped>\n",
       "    .dataframe tbody tr th:only-of-type {\n",
       "        vertical-align: middle;\n",
       "    }\n",
       "\n",
       "    .dataframe tbody tr th {\n",
       "        vertical-align: top;\n",
       "    }\n",
       "\n",
       "    .dataframe thead th {\n",
       "        text-align: right;\n",
       "    }\n",
       "</style>\n",
       "<table border=\"1\" class=\"dataframe\">\n",
       "  <thead>\n",
       "    <tr style=\"text-align: right;\">\n",
       "      <th></th>\n",
       "      <th>age</th>\n",
       "      <th>height</th>\n",
       "      <th>income</th>\n",
       "    </tr>\n",
       "  </thead>\n",
       "  <tbody>\n",
       "    <tr>\n",
       "      <th>count</th>\n",
       "      <td>59946.000000</td>\n",
       "      <td>59943.000000</td>\n",
       "      <td>59946.000000</td>\n",
       "    </tr>\n",
       "    <tr>\n",
       "      <th>mean</th>\n",
       "      <td>32.340290</td>\n",
       "      <td>68.295281</td>\n",
       "      <td>20033.222534</td>\n",
       "    </tr>\n",
       "    <tr>\n",
       "      <th>std</th>\n",
       "      <td>9.452779</td>\n",
       "      <td>3.994803</td>\n",
       "      <td>97346.192104</td>\n",
       "    </tr>\n",
       "    <tr>\n",
       "      <th>min</th>\n",
       "      <td>18.000000</td>\n",
       "      <td>1.000000</td>\n",
       "      <td>-1.000000</td>\n",
       "    </tr>\n",
       "    <tr>\n",
       "      <th>25%</th>\n",
       "      <td>26.000000</td>\n",
       "      <td>66.000000</td>\n",
       "      <td>-1.000000</td>\n",
       "    </tr>\n",
       "    <tr>\n",
       "      <th>50%</th>\n",
       "      <td>30.000000</td>\n",
       "      <td>68.000000</td>\n",
       "      <td>-1.000000</td>\n",
       "    </tr>\n",
       "    <tr>\n",
       "      <th>75%</th>\n",
       "      <td>37.000000</td>\n",
       "      <td>71.000000</td>\n",
       "      <td>-1.000000</td>\n",
       "    </tr>\n",
       "    <tr>\n",
       "      <th>max</th>\n",
       "      <td>110.000000</td>\n",
       "      <td>95.000000</td>\n",
       "      <td>1000000.000000</td>\n",
       "    </tr>\n",
       "  </tbody>\n",
       "</table>\n",
       "</div>"
      ],
      "text/plain": [
       "                age        height          income\n",
       "count  59946.000000  59943.000000    59946.000000\n",
       "mean      32.340290     68.295281    20033.222534\n",
       "std        9.452779      3.994803    97346.192104\n",
       "min       18.000000      1.000000       -1.000000\n",
       "25%       26.000000     66.000000       -1.000000\n",
       "50%       30.000000     68.000000       -1.000000\n",
       "75%       37.000000     71.000000       -1.000000\n",
       "max      110.000000     95.000000  1000000.000000"
      ]
     },
     "execution_count": 2,
     "metadata": {},
     "output_type": "execute_result"
    }
   ],
   "source": [
    "print(df.head())\n",
    "df.describe()"
   ]
  },
  {
   "cell_type": "code",
   "execution_count": 3,
   "metadata": {},
   "outputs": [
    {
     "data": {
      "image/png": "[encoded data removed]",
      "text/plain": [
       "<matplotlib.figure.Figure at 0x2a400068cc0>"
      ]
     },
     "metadata": {},
     "output_type": "display_data"
    }
   ],
   "source": [
    "#Generating a histogram for age\n",
    "plt.hist(df.age, bins=20)\n",
    "plt.xlabel(\"Age\")\n",
    "plt.ylabel(\"Frequency\")\n",
    "plt.xlim(16, 80)\n",
    "plt.show()"
   ]
  },
  {
   "cell_type": "code",
   "execution_count": 4,
   "metadata": {},
   "outputs": [
    {
     "name": "stdout",
     "output_type": "stream",
     "text": [
      "(59946, 31)\n"
     ]
    }
   ],
   "source": [
    "#finding the number of rows and columns\n",
    "print(df.shape)"
   ]
  },
  {
   "cell_type": "markdown",
   "metadata": {},
   "source": [
    "# Cleaning the data"
   ]
  },
  {
   "cell_type": "code",
   "execution_count": 5,
   "metadata": {},
   "outputs": [
    {
     "data": {
      "text/plain": [
       "array(['age', 'body_type', 'diet', 'drinks', 'drugs', 'height', 'smokes'],\n",
       "      dtype=object)"
      ]
     },
     "execution_count": 5,
     "metadata": {},
     "output_type": "execute_result"
    }
   ],
   "source": [
    "# drop columns that will not be used for this project\n",
    "columns_to_drop = [\n",
    "    'education',\n",
    "    'ethnicity',\n",
    "    'job',\n",
    "    'last_online',\n",
    "    'location',\n",
    "    'offspring',\n",
    "    'orientation',\n",
    "    'pets',\n",
    "    'religion',\n",
    "    'sign',\n",
    "    'speaks',\n",
    "    'status',\n",
    "    'income', \n",
    "    'essay0',\n",
    "    'essay1',\n",
    "    'essay2',\n",
    "    'essay3',\n",
    "    'essay4',\n",
    "    'essay5',\n",
    "    'essay6',\n",
    "    'essay7',\n",
    "    'essay8',\n",
    "    'essay9',\n",
    "    'sex'\n",
    "]\n",
    "df.drop(columns_to_drop, axis=1, inplace=True)\n",
    "df.columns.values"
   ]
  },
  {
   "cell_type": "code",
   "execution_count": 6,
   "metadata": {},
   "outputs": [
    {
     "data": {
      "text/plain": [
       "age          False\n",
       "body_type     True\n",
       "diet          True\n",
       "drinks        True\n",
       "drugs         True\n",
       "height        True\n",
       "smokes        True\n",
       "dtype: bool"
      ]
     },
     "execution_count": 6,
     "metadata": {},
     "output_type": "execute_result"
    }
   ],
   "source": [
    "#Checking if the remaining columns have any null values\n",
    "df.isna().any()"
   ]
  },
  {
   "cell_type": "code",
   "execution_count": 7,
   "metadata": {},
   "outputs": [
    {
     "data": {
      "text/plain": [
       "age          False\n",
       "body_type    False\n",
       "diet         False\n",
       "drinks       False\n",
       "drugs        False\n",
       "height       False\n",
       "smokes       False\n",
       "dtype: bool"
      ]
     },
     "execution_count": 7,
     "metadata": {},
     "output_type": "execute_result"
    }
   ],
   "source": [
    "#removing nulls in the remaining columns\n",
    "remaining_columns_with_nan_values=['body_type','diet','drinks','drugs','height','smokes']\n",
    "df.dropna(subset=remaining_columns_with_nan_values,inplace=True)\n",
    "df.isna().any()"
   ]
  },
  {
   "cell_type": "code",
   "execution_count": 8,
   "metadata": {},
   "outputs": [
    {
     "data": {
      "text/plain": [
       "mostly anything        12290\n",
       "anything                4357\n",
       "strictly anything       3341\n",
       "mostly vegetarian       2322\n",
       "mostly other             741\n",
       "strictly vegetarian      632\n",
       "vegetarian               366\n",
       "strictly other           310\n",
       "other                    233\n",
       "mostly vegan             222\n",
       "strictly vegan           160\n",
       "vegan                     86\n",
       "mostly kosher             64\n",
       "mostly halal              36\n",
       "strictly halal            15\n",
       "strictly kosher           14\n",
       "halal                      7\n",
       "kosher                     6\n",
       "Name: diet, dtype: int64"
      ]
     },
     "execution_count": 8,
     "metadata": {},
     "output_type": "execute_result"
    }
   ],
   "source": [
    "#determining value counts\n",
    "df['diet'].value_counts()"
   ]
  },
  {
   "cell_type": "code",
   "execution_count": 9,
   "metadata": {},
   "outputs": [],
   "source": [
    "#Mapping diet responses to numeric values(codes)\n",
    "def map_diet_to_values(diet):\n",
    "    if \"vegan\" in diet:\n",
    "        return 0\n",
    "    elif \"vegetarian\" in diet:\n",
    "        return 1\n",
    "    elif \"kosher\" or \"halal\" in diet:\n",
    "        return 2\n",
    "    else:\n",
    "        return 3\n",
    "    \n",
    "df['diet_code']=df['diet'].apply(map_diet_to_values)"
   ]
  },
  {
   "cell_type": "code",
   "execution_count": 10,
   "metadata": {},
   "outputs": [],
   "source": [
    "#Mapppin drinks responses to numeric values\n",
    "df['drinks'].value_counts()\n",
    "drinks_code={\"not at all\": 0,\n",
    "    \"rarely\": 1,\n",
    "    \"socially\": 2,\n",
    "    \"often\": 3,\n",
    "    \"very often\": 4,\n",
    "    \"desperately\": 5}\n",
    "df['drinks_code']=df['drinks'].map(drinks_code)"
   ]
  },
  {
   "cell_type": "code",
   "execution_count": 11,
   "metadata": {},
   "outputs": [],
   "source": [
    "#Maping drugs responses to numeric values\n",
    "drugs_code={'never':0,'sometimes':1,'often':2}\n",
    "df['drugs_code']=df['drugs'].map(drugs_code)"
   ]
  },
  {
   "cell_type": "code",
   "execution_count": 12,
   "metadata": {},
   "outputs": [],
   "source": [
    "#Maping smoking responses to numeric values\n",
    "df['smokes'].value_counts()\n",
    "smokes_code={\"no\": 0,\n",
    "    \"when drinking\": 1,\n",
    "    \"sometimes\": 2,\n",
    "    \"yes\": 3,\n",
    "    \"trying to quit\": 3}\n",
    "df['smokes_code']=df['smokes'].map(smokes_code)"
   ]
  },
  {
   "cell_type": "code",
   "execution_count": 13,
   "metadata": {},
   "outputs": [
    {
     "data": {
      "text/plain": [
       "0     6802\n",
       "1     5742\n",
       "2     5366\n",
       "3     2191\n",
       "4     1843\n",
       "5     1312\n",
       "6      804\n",
       "7      464\n",
       "8      227\n",
       "9      191\n",
       "10     182\n",
       "Name: body_type_code, dtype: int64"
      ]
     },
     "execution_count": 13,
     "metadata": {},
     "output_type": "execute_result"
    }
   ],
   "source": [
    "#remove rows where response is \"rather not say\"\n",
    "\n",
    "df= df.loc[df['body_type']!='rather not say',:]\n",
    "\n",
    "# map body_type responses to a number code\n",
    "\n",
    "body_type_codes = {\n",
    "    \"average\": 0,\n",
    "    \"fit\": 1,\n",
    "    \"athletic\": 2,\n",
    "    \"thin\": 3,\n",
    "    \"curvy\": 4,\n",
    "    \"a little extra\": 5,\n",
    "    \"skinny\": 6,\n",
    "    \"full figured\": 7,\n",
    "    \"overweight\": 8,\n",
    "    \"jacked\": 9,\n",
    "    \"used up\": 10\n",
    "}\n",
    "\n",
    "df[\"body_type_code\"] = df['body_type'].map(body_type_codes)\n",
    "\n",
    "#check that mapping smokes responses has worked \n",
    "\n",
    "df['body_type_code'].value_counts()"
   ]
  },
  {
   "cell_type": "markdown",
   "metadata": {},
   "source": [
    "# Exploring the cleaned data"
   ]
  },
  {
   "cell_type": "code",
   "execution_count": 14,
   "metadata": {},
   "outputs": [
    {
     "name": "stdout",
     "output_type": "stream",
     "text": [
      "average           6802\n",
      "fit               5742\n",
      "athletic          5366\n",
      "thin              2191\n",
      "curvy             1843\n",
      "a little extra    1312\n",
      "skinny             804\n",
      "full figured       464\n",
      "overweight         227\n",
      "jacked             191\n",
      "used up            182\n",
      "dtype: int64\n"
     ]
    },
    {
     "data": {
      "image/png": "[encoded data removed]",
      "text/plain": [
       "<matplotlib.figure.Figure at 0x2a472c2c7f0>"
      ]
     },
     "metadata": {},
     "output_type": "display_data"
    }
   ],
   "source": [
    "#generate bar chart for body type responses\n",
    "\n",
    "body_type_responses = pd.value_counts(df['body_type'].values, sort=True)\n",
    "print(body_type_responses)\n",
    "ax = body_type_responses.plot(kind='bar', title='Body type responses')\n",
    "ax.set(xlabel='Body type', ylabel='Number of responses')\n",
    "plt.show()"
   ]
  },
  {
   "cell_type": "code",
   "execution_count": 15,
   "metadata": {},
   "outputs": [
    {
     "data": {
      "image/png": "[encoded data removed]",
      "text/plain": [
       "<matplotlib.figure.Figure at 0x2a4001512b0>"
      ]
     },
     "metadata": {},
     "output_type": "display_data"
    }
   ],
   "source": [
    "#generating histogram for age responses\n",
    "plt.hist(df['age'], bins=20)\n",
    "plt.title(\"Distribution of age responses\")\n",
    "plt.xlabel(\"Age\")\n",
    "plt.ylabel(\"Frequency\")\n",
    "plt.xlim(16, 80)\n",
    "plt.show()"
   ]
  },
  {
   "cell_type": "code",
   "execution_count": 16,
   "metadata": {},
   "outputs": [
    {
     "data": {
      "text/html": [
       "<div>\n",
       "<style scoped>\n",
       "    .dataframe tbody tr th:only-of-type {\n",
       "        vertical-align: middle;\n",
       "    }\n",
       "\n",
       "    .dataframe tbody tr th {\n",
       "        vertical-align: top;\n",
       "    }\n",
       "\n",
       "    .dataframe thead th {\n",
       "        text-align: right;\n",
       "    }\n",
       "</style>\n",
       "<table border=\"1\" class=\"dataframe\">\n",
       "  <thead>\n",
       "    <tr style=\"text-align: right;\">\n",
       "      <th></th>\n",
       "      <th>age</th>\n",
       "      <th>height</th>\n",
       "      <th>diet_code</th>\n",
       "      <th>drinks_code</th>\n",
       "      <th>drugs_code</th>\n",
       "      <th>smokes_code</th>\n",
       "      <th>body_type_code</th>\n",
       "    </tr>\n",
       "  </thead>\n",
       "  <tbody>\n",
       "    <tr>\n",
       "      <th>age</th>\n",
       "      <td>1.000000</td>\n",
       "      <td>-0.046986</td>\n",
       "      <td>-0.037272</td>\n",
       "      <td>-0.112828</td>\n",
       "      <td>-0.167408</td>\n",
       "      <td>-0.153620</td>\n",
       "      <td>-0.048182</td>\n",
       "    </tr>\n",
       "    <tr>\n",
       "      <th>height</th>\n",
       "      <td>-0.046986</td>\n",
       "      <td>1.000000</td>\n",
       "      <td>0.064890</td>\n",
       "      <td>0.035809</td>\n",
       "      <td>0.073346</td>\n",
       "      <td>0.057508</td>\n",
       "      <td>-0.041274</td>\n",
       "    </tr>\n",
       "    <tr>\n",
       "      <th>diet_code</th>\n",
       "      <td>-0.037272</td>\n",
       "      <td>0.064890</td>\n",
       "      <td>1.000000</td>\n",
       "      <td>0.071754</td>\n",
       "      <td>-0.058015</td>\n",
       "      <td>0.018517</td>\n",
       "      <td>-0.012690</td>\n",
       "    </tr>\n",
       "    <tr>\n",
       "      <th>drinks_code</th>\n",
       "      <td>-0.112828</td>\n",
       "      <td>0.035809</td>\n",
       "      <td>0.071754</td>\n",
       "      <td>1.000000</td>\n",
       "      <td>0.218737</td>\n",
       "      <td>0.142761</td>\n",
       "      <td>0.020841</td>\n",
       "    </tr>\n",
       "    <tr>\n",
       "      <th>drugs_code</th>\n",
       "      <td>-0.167408</td>\n",
       "      <td>0.073346</td>\n",
       "      <td>-0.058015</td>\n",
       "      <td>0.218737</td>\n",
       "      <td>1.000000</td>\n",
       "      <td>0.348970</td>\n",
       "      <td>0.084404</td>\n",
       "    </tr>\n",
       "    <tr>\n",
       "      <th>smokes_code</th>\n",
       "      <td>-0.153620</td>\n",
       "      <td>0.057508</td>\n",
       "      <td>0.018517</td>\n",
       "      <td>0.142761</td>\n",
       "      <td>0.348970</td>\n",
       "      <td>1.000000</td>\n",
       "      <td>0.080216</td>\n",
       "    </tr>\n",
       "    <tr>\n",
       "      <th>body_type_code</th>\n",
       "      <td>-0.048182</td>\n",
       "      <td>-0.041274</td>\n",
       "      <td>-0.012690</td>\n",
       "      <td>0.020841</td>\n",
       "      <td>0.084404</td>\n",
       "      <td>0.080216</td>\n",
       "      <td>1.000000</td>\n",
       "    </tr>\n",
       "  </tbody>\n",
       "</table>\n",
       "</div>"
      ],
      "text/plain": [
       "                     age    height  diet_code  drinks_code  drugs_code  \\\n",
       "age             1.000000 -0.046986  -0.037272    -0.112828   -0.167408   \n",
       "height         -0.046986  1.000000   0.064890     0.035809    0.073346   \n",
       "diet_code      -0.037272  0.064890   1.000000     0.071754   -0.058015   \n",
       "drinks_code    -0.112828  0.035809   0.071754     1.000000    0.218737   \n",
       "drugs_code     -0.167408  0.073346  -0.058015     0.218737    1.000000   \n",
       "smokes_code    -0.153620  0.057508   0.018517     0.142761    0.348970   \n",
       "body_type_code -0.048182 -0.041274  -0.012690     0.020841    0.084404   \n",
       "\n",
       "                smokes_code  body_type_code  \n",
       "age               -0.153620       -0.048182  \n",
       "height             0.057508       -0.041274  \n",
       "diet_code          0.018517       -0.012690  \n",
       "drinks_code        0.142761        0.020841  \n",
       "drugs_code         0.348970        0.084404  \n",
       "smokes_code        1.000000        0.080216  \n",
       "body_type_code     0.080216        1.000000  "
      ]
     },
     "execution_count": 16,
     "metadata": {},
     "output_type": "execute_result"
    }
   ],
   "source": [
    "df.corr()"
   ]
  },
  {
   "cell_type": "markdown",
   "metadata": {},
   "source": [
    "# Question 1: Is it possible to use diet,lifestyle information(drinking/smoking/drug use habits) and body type to predict age?"
   ]
  },
  {
   "cell_type": "code",
   "execution_count": 17,
   "metadata": {},
   "outputs": [],
   "source": [
    "#select features and scale the data\n",
    "from sklearn.preprocessing import scale\n",
    "list_of_features_for_analysis = [\n",
    "    'diet_code',\n",
    "    'drinks_code',\n",
    "    'drugs_code',\n",
    "    'smokes_code',\n",
    "    'body_type_code',\n",
    "]\n",
    "features=df[list_of_features_for_analysis]\n",
    "scaled_features=scale(features,axis=0)\n",
    "age=df['age']\n"
   ]
  },
  {
   "cell_type": "code",
   "execution_count": 18,
   "metadata": {},
   "outputs": [],
   "source": [
    "#splitting data into train and test sets\n",
    "from sklearn.model_selection import train_test_split\n",
    "X_train,X_test,y_train,y_test=train_test_split(scaled_features,age,test_size=0.2,random_state=25)"
   ]
  },
  {
   "cell_type": "code",
   "execution_count": 19,
   "metadata": {},
   "outputs": [
    {
     "name": "stdout",
     "output_type": "stream",
     "text": [
      "The model training score is 0.046201071821195816\n",
      "Model test set score 0.04287092613924037\n"
     ]
    },
    {
     "data": {
      "image/png": "[encoded data removed]",
      "text/plain": [
       "<matplotlib.figure.Figure at 0x2a4007f85c0>"
      ]
     },
     "metadata": {},
     "output_type": "display_data"
    }
   ],
   "source": [
    "#using multiple linear regression model to predict age\n",
    "from sklearn.linear_model import LinearRegression\n",
    "model=LinearRegression()\n",
    "model.fit(X_train,y_train)\n",
    "model_training_score=model.score(X_train,y_train)\n",
    "print(\"The model training score is\",model_training_score)\n",
    "\n",
    "model_test_score = model.score(X_test, y_test)\n",
    "\n",
    "print(\"Model test set score\",model_test_score)\n",
    "\n",
    "#generate plot showing difference between predicted age and actual age using Multiple Linear Regression model\n",
    "\n",
    "model_predictions = model.predict(X_test)\n",
    "\n",
    "plt.scatter(y_test, model_predictions)\n",
    "plt.title(\"Actual age versus predicted age using Multiple Linear Regression\")\n",
    "plt.xlabel(\"Actual age\")\n",
    "plt.ylabel(\"Predicted age\")\n",
    "plt.show()\n"
   ]
  },
  {
   "cell_type": "code",
   "execution_count": 20,
   "metadata": {},
   "outputs": [
    {
     "name": "stdout",
     "output_type": "stream",
     "text": [
      "The model training score is 0.046201071821195816\n",
      "Model test set score 0.005824780658340467\n"
     ]
    },
    {
     "data": {
      "image/png": "[encoded data removed]",
      "text/plain": [
       "<matplotlib.figure.Figure at 0x2a40003a908>"
      ]
     },
     "metadata": {},
     "output_type": "display_data"
    }
   ],
   "source": [
    "#using the K Neighbors Regressor model to predict age\n",
    "from sklearn.neighbors import KNeighborsRegressor\n",
    "kn_model=KNeighborsRegressor(n_neighbors=50,weights=\"distance\")\n",
    "kn_model.fit(X_train,y_train)\n",
    "kntraining_score=model.score(X_train,y_train)\n",
    "print(\"The model training score is\",kntraining_score)\n",
    "\n",
    "kn_test_score = kn_model.score(X_test,y_test)\n",
    "\n",
    "print(\"Model test set score\",kn_test_score)\n",
    "\n",
    "#generate plot showing difference between predicted age and actual age using the K Neighbors Regressor model\n",
    "kn_model_predict = kn_model.predict(X_test)\n",
    "\n",
    "plt.scatter(y_test, kn_model_predict)\n",
    "plt.title(\"Actual age versus predicted age using Multiple Linear Regression\")\n",
    "plt.xlabel(\"Actual age\")\n",
    "plt.ylabel(\"Predicted age\")\n",
    "plt.show()"
   ]
  },
  {
   "cell_type": "markdown",
   "metadata": {},
   "source": [
    "# Question 2: Can we use diet, lifestyle information(drinking/drugs/smoking habits) and age to preduct body type?"
   ]
  },
  {
   "cell_type": "code",
   "execution_count": 21,
   "metadata": {},
   "outputs": [],
   "source": [
    "#Selecting features and scaling data\n",
    "from sklearn.preprocessing import scale\n",
    "\n",
    "list_of_features_classification = [\n",
    "    'diet_code',\n",
    "    'drinks_code',\n",
    "    'drugs_code',\n",
    "    'smokes_code',\n",
    "    'age'\n",
    "]\n",
    "features_classification = df[list_of_features_classification]\n",
    "scaled_features_classification = scale(features_classification, axis=0)\n",
    "labels = df['body_type_code']"
   ]
  },
  {
   "cell_type": "code",
   "execution_count": 22,
   "metadata": {},
   "outputs": [],
   "source": [
    "# generate training and test sets\n",
    "\n",
    "from sklearn.model_selection import train_test_split\n",
    "\n",
    "train_data, test_data, train_labels, test_labels = train_test_split(scaled_features_classification, labels, test_size=0.2, random_state=40)"
   ]
  },
  {
   "cell_type": "code",
   "execution_count": 23,
   "metadata": {},
   "outputs": [
    {
     "name": "stdout",
     "output_type": "stream",
     "text": [
      "KNN training set score: 0.28742723518583013\n",
      "KNN test set score: 0.2754228855721393\n"
     ]
    }
   ],
   "source": [
    "#Using the KNeighborsRegressor model to predict body type\n",
    "from sklearn.neighbors import KNeighborsClassifier\n",
    "\n",
    "knn_classifier = KNeighborsClassifier(n_neighbors=76)\n",
    "knn_classifier.fit(train_data, train_labels)\n",
    "\n",
    "knn_training_score = knn_classifier.score(train_data, train_labels)\n",
    "\n",
    "print(\"KNN training set score: %s\" %(knn_training_score))\n",
    "\n",
    "knn_test_score = knn_classifier.score(test_data, test_labels)\n",
    "\n",
    "print(\"KNN test set score: %s\" %(knn_test_score))"
   ]
  },
  {
   "cell_type": "code",
   "execution_count": 24,
   "metadata": {},
   "outputs": [
    {
     "name": "stdout",
     "output_type": "stream",
     "text": [
      "[[726 339 278   0   0   0   0   0   0   0   0]\n",
      " [482 371 286   0   0   0   0   0   0   0   0]\n",
      " [475 311 287   0   0   0   0   0   0   0   0]\n",
      " [242 121 104   0   0   0   0   0   0   0   0]\n",
      " [188 105  79   0   0   0   0   0   0   0   0]\n",
      " [147  58  56   0   0   0   0   0   0   0   0]\n",
      " [107  30  36   0   0   0   0   0   0   0   0]\n",
      " [ 32  21  27   0   0   0   0   0   0   0   0]\n",
      " [ 23  13   6   0   0   0   0   0   0   0   0]\n",
      " [ 24   9   6   0   0   0   0   0   0   0   0]\n",
      " [ 26   5   4   1   0   0   0   0   0   0   0]]\n",
      "             precision    recall  f1-score   support\n",
      "\n",
      "          0       0.29      0.54      0.38      1343\n",
      "          1       0.27      0.33      0.29      1139\n",
      "          2       0.25      0.27      0.26      1073\n",
      "          3       0.00      0.00      0.00       467\n",
      "          4       0.00      0.00      0.00       372\n",
      "          5       0.00      0.00      0.00       261\n",
      "          6       0.00      0.00      0.00       173\n",
      "          7       0.00      0.00      0.00        80\n",
      "          8       0.00      0.00      0.00        42\n",
      "          9       0.00      0.00      0.00        39\n",
      "         10       0.00      0.00      0.00        36\n",
      "\n",
      "avg / total       0.19      0.28      0.22      5025\n",
      "\n"
     ]
    },
    {
     "name": "stderr",
     "output_type": "stream",
     "text": [
      "C:\\Users\\Gayathri\\Anaconda3\\lib\\site-packages\\sklearn\\metrics\\classification.py:1135: UndefinedMetricWarning: Precision and F-score are ill-defined and being set to 0.0 in labels with no predicted samples.\n",
      "  'precision', 'predicted', average, warn_for)\n"
     ]
    }
   ],
   "source": [
    "# generate classification report and confusion matrix for K Nearest Neighbors classifier\n",
    "\n",
    "from sklearn.metrics import classification_report, confusion_matrix \n",
    "\n",
    "knn_predictions = knn_classifier.predict(test_data)\n",
    "print(confusion_matrix(test_labels, knn_predictions))\n",
    "print(classification_report(test_labels, knn_predictions))"
   ]
  },
  {
   "cell_type": "code",
   "execution_count": 25,
   "metadata": {},
   "outputs": [
    {
     "data": {
      "image/png": "[encoded data removed]",
      "text/plain": [
       "<matplotlib.figure.Figure at 0x2a400ce4e80>"
      ]
     },
     "metadata": {},
     "output_type": "display_data"
    },
    {
     "name": "stdout",
     "output_type": "stream",
     "text": [
      "{'k': 83, 'score': 0.278407960199005}\n"
     ]
    }
   ],
   "source": [
    "# generate plot showing K Nearest Neighbors classifier score based on different n_neighbors values \n",
    "# and print out n_neighbors value that results in highest score\n",
    "\n",
    "scores = []\n",
    "\n",
    "highest_score = {\n",
    "    'k': 0,\n",
    "    'score': 0\n",
    "}\n",
    "\n",
    "for k in range(1, 101):\n",
    "    classifier = KNeighborsClassifier(n_neighbors=k)\n",
    "    classifier.fit(train_data, train_labels)\n",
    "    score = classifier.score(test_data, test_labels)\n",
    "    scores.append(score)\n",
    "    if score > highest_score['score']:\n",
    "        highest_score = {\n",
    "            'k': k,\n",
    "            'score': score\n",
    "        }\n",
    "\n",
    "x_values = range(1, 101)\n",
    "\n",
    "y_values = scores\n",
    "\n",
    "plt.plot(x_values, y_values)\n",
    "plt.title('Accuracy of K Nearest Neighbours classifier based on different k values')\n",
    "plt.ylabel('Accuracy')\n",
    "plt.xlabel('k value')\n",
    "plt.show()\n",
    "print(highest_score)"
   ]
  },
  {
   "cell_type": "code",
   "execution_count": 26,
   "metadata": {},
   "outputs": [
    {
     "name": "stdout",
     "output_type": "stream",
     "text": [
      "Training score: 0.3185233096173939\n",
      "Test score: 0.2650746268656716\n"
     ]
    }
   ],
   "source": [
    "#Using support vector machines classifier to predict body type\n",
    "from sklearn.svm import SVC\n",
    "classifier=SVC(kernel='rbf',gamma=10)\n",
    "classifier.fit(train_data,train_labels)\n",
    "svc_training_score=classifier.score(train_data,train_labels)\n",
    "print(\"Training score:\",svc_training_score)\n",
    "svc_test_score=classifier.score(test_data,test_labels)\n",
    "print(\"Test score:\",svc_test_score)"
   ]
  },
  {
   "cell_type": "code",
   "execution_count": null,
   "metadata": {},
   "outputs": [
    {
     "name": "stdout",
     "output_type": "stream",
     "text": [
      "[[753 318 262   4   1   1   1   1   0   0   2]\n",
      " [556 301 275   3   1   2   0   0   0   0   1]\n",
      " [528 271 270   2   0   0   0   0   0   0   2]\n",
      " [244 125  92   3   0   0   1   0   0   0   2]\n",
      " [210  84  75   2   0   0   1   0   0   0   0]\n",
      " [157  52  47   3   0   2   0   0   0   0   0]\n",
      " [113  23  32   2   2   0   1   0   0   0   0]\n",
      " [ 44  20  16   0   0   0   0   0   0   0   0]\n",
      " [ 23  13   5   0   0   0   0   0   1   0   0]\n",
      " [ 24   7   7   0   0   0   0   0   0   0   1]\n",
      " [ 27   5   3   0   0   0   0   0   0   0   1]]\n",
      "             precision    recall  f1-score   support\n",
      "\n",
      "          0       0.28      0.56      0.37      1343\n",
      "          1       0.25      0.26      0.26      1139\n",
      "          2       0.25      0.25      0.25      1073\n",
      "          3       0.16      0.01      0.01       467\n",
      "          4       0.00      0.00      0.00       372\n",
      "          5       0.40      0.01      0.02       261\n",
      "          6       0.25      0.01      0.01       173\n",
      "          7       0.00      0.00      0.00        80\n",
      "          8       1.00      0.02      0.05        42\n",
      "          9       0.00      0.00      0.00        39\n",
      "         10       0.11      0.03      0.04        36\n",
      "\n",
      "avg / total       0.24      0.27      0.21      5025\n",
      "\n"
     ]
    },
    {
     "name": "stderr",
     "output_type": "stream",
     "text": [
      "C:\\Users\\Gayathri\\Anaconda3\\lib\\site-packages\\sklearn\\metrics\\classification.py:1135: UndefinedMetricWarning: Precision and F-score are ill-defined and being set to 0.0 in labels with no predicted samples.\n",
      "  'precision', 'predicted', average, warn_for)\n"
     ]
    }
   ],
   "source": [
    "# generate classification report and confusion matrix for Support Vector Machines classifier\n",
    "from sklearn.metrics import classification_report, confusion_matrix \n",
    "\n",
    "svc_predictions = classifier.predict(test_data)\n",
    "print(confusion_matrix(test_labels, svc_predictions))\n",
    "print(classification_report(test_labels, svc_predictions))"
   ]
  },
  {
   "cell_type": "code",
   "execution_count": null,
   "metadata": {},
   "outputs": [],
   "source": [
    "# generate plot showing SVC Classifier score based on different gamma values \n",
    "# and print out gamma value that results in highest score\n",
    "import numpy as np\n",
    "scores = []\n",
    "\n",
    "highest_score = {\n",
    "    'gamma': 0,\n",
    "    'score': 0\n",
    "}\n",
    "\n",
    "gamma_values = np.arange(0.1, 1.0, 0.1)\n",
    "\n",
    "for val in gamma_values:\n",
    "    svc_classifier = SVC(kernel='rbf', gamma=val)\n",
    "    svc_classifier.fit(train_data, train_labels)\n",
    "    score = svc_classifier.score(test_data, test_labels)\n",
    "    scores.append(score)\n",
    "    if score > highest_score['score']:\n",
    "        highest_score = {\n",
    "            'gamma': val,\n",
    "            'score': score\n",
    "        }\n",
    "\n",
    "x_values = gamma_values\n",
    "\n",
    "y_values = scores\n",
    "\n",
    "plt.plot(x_values, y_values)\n",
    "plt.title('Accuracy of Support Vector Machines classifier based on different gamma values')\n",
    "plt.ylabel('Accuracy')\n",
    "plt.xlabel('Gamma value')\n",
    "plt.show()\n",
    "print(highest_score)"
   ]
  },
  {
   "cell_type": "code",
   "execution_count": null,
   "metadata": {},
   "outputs": [],
   "source": []
  }
 ],
 "metadata": {
  "kernelspec": {
   "display_name": "Python 3",
   "language": "python",
   "name": "python3"
  },
  "language_info": {
   "codemirror_mode": {
    "name": "ipython",
    "version": 3
   },
   "file_extension": ".py",
   "mimetype": "text/x-python",
   "name": "python",
   "nbconvert_exporter": "python",
   "pygments_lexer": "ipython3",
   "version": "3.6.4"
  }
 },
 "nbformat": 4,
 "nbformat_minor": 2
}
